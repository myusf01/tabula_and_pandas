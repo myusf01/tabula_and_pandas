{
 "metadata": {
  "language_info": {
   "codemirror_mode": {
    "name": "ipython",
    "version": 3
   },
   "file_extension": ".py",
   "mimetype": "text/x-python",
   "name": "python",
   "nbconvert_exporter": "python",
   "pygments_lexer": "ipython3",
   "version": "3.7.3-final"
  },
  "orig_nbformat": 2,
  "kernelspec": {
   "name": "python3",
   "display_name": "Python 3"
  }
 },
 "nbformat": 4,
 "nbformat_minor": 2,
 "cells": [
  {
   "source": [
    "Tabula ve Pandas kullanarak PDF dosyasından tablo çıkartma ve düzenleme örneği.\n",
    "Not: Lütfen çalıştırmadan önce sisteminizde tabula'yı çalıştırmak için Java 8 veya üzeri bir versiyon kullanmanız gerekmektedir.\n"
   ],
   "cell_type": "markdown",
   "metadata": {}
  },
  {
   "source": [
    "Google Colab üzerinden kullanacak olanlar alttaki satırı çalıştırarak tabula-py kütüphanesini kurduktan sonra kullanmaya başlayabilirler."
   ],
   "cell_type": "markdown",
   "metadata": {}
  },
  {
   "cell_type": "code",
   "execution_count": 18,
   "metadata": {},
   "outputs": [],
   "source": [
    "import tabula as tb\n",
    "import pandas as pd\n",
    "\n",
    "dosya_yolu = r\"tablo201122020.pdf\"\n"
   ]
  },
  {
   "source": [
    "df = tb.read_pdf(dosya_yolu,pages=\"all\",lattice = True)\n",
    "df.head()"
   ],
   "cell_type": "code",
   "metadata": {},
   "execution_count": 19,
   "outputs": [
    {
     "output_type": "execute_result",
     "data": {
      "text/plain": [
       "  Unnamed: 0 Unnamed: 1                                      Unnamed: 2  \\\n",
       "0  ÖSYM KODU    SB KODU                                       KURUM ADI   \n",
       "1  225701101      25701  ADANA 41 NOLU ACİL SAĞLIK HİZMETLERİ İSTASYONU   \n",
       "2  225703101      25703  ADANA 42 NOLU ACİL SAĞLIK HİZMETLERİ İSTASYONU   \n",
       "3  225705101      25705  ADANA 43 NOLU ACİL SAĞLIK HİZMETLERİ İSTASYONU   \n",
       "4  225709101      25709  ADANA 44 NOLU ACİL SAĞLIK HİZMETLERİ İSTASYONU   \n",
       "\n",
       "                               Unnamed: 3 Unnamed: 4 Unnamed: 5  \\\n",
       "0                         POZİSYON UNVANI     İL ADI   TEŞKİLAT   \n",
       "1  SAĞLIK TEKNİKERİ (İLK VE ACİL\\rYARDIM)      ADANA   SB-TAŞRA   \n",
       "2  SAĞLIK TEKNİKERİ (İLK VE ACİL\\rYARDIM)      ADANA   SB-TAŞRA   \n",
       "3  SAĞLIK TEKNİKERİ (İLK VE ACİL\\rYARDIM)      ADANA   SB-TAŞRA   \n",
       "4  SAĞLIK TEKNİKERİ (İLK VE ACİL\\rYARDIM)      ADANA   SB-TAŞRA   \n",
       "\n",
       "  ARANAN NİTELİKLER* Unnamed: 7 Unnamed: 8  \n",
       "0   POZİSYON\\rSAYISI       NİT1       NİT2  \n",
       "1                  3       3005        NaN  \n",
       "2                  3       3005        NaN  \n",
       "3                  3       3005        NaN  \n",
       "4                  4       3005        NaN  "
      ],
      "text/html": "<div>\n<style scoped>\n    .dataframe tbody tr th:only-of-type {\n        vertical-align: middle;\n    }\n\n    .dataframe tbody tr th {\n        vertical-align: top;\n    }\n\n    .dataframe thead th {\n        text-align: right;\n    }\n</style>\n<table border=\"1\" class=\"dataframe\">\n  <thead>\n    <tr style=\"text-align: right;\">\n      <th></th>\n      <th>Unnamed: 0</th>\n      <th>Unnamed: 1</th>\n      <th>Unnamed: 2</th>\n      <th>Unnamed: 3</th>\n      <th>Unnamed: 4</th>\n      <th>Unnamed: 5</th>\n      <th>ARANAN NİTELİKLER*</th>\n      <th>Unnamed: 7</th>\n      <th>Unnamed: 8</th>\n    </tr>\n  </thead>\n  <tbody>\n    <tr>\n      <th>0</th>\n      <td>ÖSYM KODU</td>\n      <td>SB KODU</td>\n      <td>KURUM ADI</td>\n      <td>POZİSYON UNVANI</td>\n      <td>İL ADI</td>\n      <td>TEŞKİLAT</td>\n      <td>POZİSYON\\rSAYISI</td>\n      <td>NİT1</td>\n      <td>NİT2</td>\n    </tr>\n    <tr>\n      <th>1</th>\n      <td>225701101</td>\n      <td>25701</td>\n      <td>ADANA 41 NOLU ACİL SAĞLIK HİZMETLERİ İSTASYONU</td>\n      <td>SAĞLIK TEKNİKERİ (İLK VE ACİL\\rYARDIM)</td>\n      <td>ADANA</td>\n      <td>SB-TAŞRA</td>\n      <td>3</td>\n      <td>3005</td>\n      <td>NaN</td>\n    </tr>\n    <tr>\n      <th>2</th>\n      <td>225703101</td>\n      <td>25703</td>\n      <td>ADANA 42 NOLU ACİL SAĞLIK HİZMETLERİ İSTASYONU</td>\n      <td>SAĞLIK TEKNİKERİ (İLK VE ACİL\\rYARDIM)</td>\n      <td>ADANA</td>\n      <td>SB-TAŞRA</td>\n      <td>3</td>\n      <td>3005</td>\n      <td>NaN</td>\n    </tr>\n    <tr>\n      <th>3</th>\n      <td>225705101</td>\n      <td>25705</td>\n      <td>ADANA 43 NOLU ACİL SAĞLIK HİZMETLERİ İSTASYONU</td>\n      <td>SAĞLIK TEKNİKERİ (İLK VE ACİL\\rYARDIM)</td>\n      <td>ADANA</td>\n      <td>SB-TAŞRA</td>\n      <td>3</td>\n      <td>3005</td>\n      <td>NaN</td>\n    </tr>\n    <tr>\n      <th>4</th>\n      <td>225709101</td>\n      <td>25709</td>\n      <td>ADANA 44 NOLU ACİL SAĞLIK HİZMETLERİ İSTASYONU</td>\n      <td>SAĞLIK TEKNİKERİ (İLK VE ACİL\\rYARDIM)</td>\n      <td>ADANA</td>\n      <td>SB-TAŞRA</td>\n      <td>4</td>\n      <td>3005</td>\n      <td>NaN</td>\n    </tr>\n  </tbody>\n</table>\n</div>"
     },
     "metadata": {},
     "execution_count": 19
    }
   ]
  },
  {
   "cell_type": "code",
   "execution_count": 20,
   "metadata": {},
   "outputs": [
    {
     "output_type": "execute_result",
     "data": {
      "text/plain": [
       "  Unnamed: 0 Unnamed: 1                                      Unnamed: 2  \\\n",
       "1  225701101      25701  ADANA 41 NOLU ACİL SAĞLIK HİZMETLERİ İSTASYONU   \n",
       "2  225703101      25703  ADANA 42 NOLU ACİL SAĞLIK HİZMETLERİ İSTASYONU   \n",
       "3  225705101      25705  ADANA 43 NOLU ACİL SAĞLIK HİZMETLERİ İSTASYONU   \n",
       "4  225709101      25709  ADANA 44 NOLU ACİL SAĞLIK HİZMETLERİ İSTASYONU   \n",
       "5  225710101      25710  ADANA 45 NOLU ACİL SAĞLIK HİZMETLERİ İSTASYONU   \n",
       "\n",
       "                               Unnamed: 3 Unnamed: 4 Unnamed: 5  \\\n",
       "1  SAĞLIK TEKNİKERİ (İLK VE ACİL\\rYARDIM)      ADANA   SB-TAŞRA   \n",
       "2  SAĞLIK TEKNİKERİ (İLK VE ACİL\\rYARDIM)      ADANA   SB-TAŞRA   \n",
       "3  SAĞLIK TEKNİKERİ (İLK VE ACİL\\rYARDIM)      ADANA   SB-TAŞRA   \n",
       "4  SAĞLIK TEKNİKERİ (İLK VE ACİL\\rYARDIM)      ADANA   SB-TAŞRA   \n",
       "5  SAĞLIK TEKNİKERİ (İLK VE ACİL\\rYARDIM)      ADANA   SB-TAŞRA   \n",
       "\n",
       "  ARANAN NİTELİKLER* Unnamed: 7 Unnamed: 8  \n",
       "1                  3       3005        NaN  \n",
       "2                  3       3005        NaN  \n",
       "3                  3       3005        NaN  \n",
       "4                  4       3005        NaN  \n",
       "5                  4       3005        NaN  "
      ],
      "text/html": "<div>\n<style scoped>\n    .dataframe tbody tr th:only-of-type {\n        vertical-align: middle;\n    }\n\n    .dataframe tbody tr th {\n        vertical-align: top;\n    }\n\n    .dataframe thead th {\n        text-align: right;\n    }\n</style>\n<table border=\"1\" class=\"dataframe\">\n  <thead>\n    <tr style=\"text-align: right;\">\n      <th></th>\n      <th>Unnamed: 0</th>\n      <th>Unnamed: 1</th>\n      <th>Unnamed: 2</th>\n      <th>Unnamed: 3</th>\n      <th>Unnamed: 4</th>\n      <th>Unnamed: 5</th>\n      <th>ARANAN NİTELİKLER*</th>\n      <th>Unnamed: 7</th>\n      <th>Unnamed: 8</th>\n    </tr>\n  </thead>\n  <tbody>\n    <tr>\n      <th>1</th>\n      <td>225701101</td>\n      <td>25701</td>\n      <td>ADANA 41 NOLU ACİL SAĞLIK HİZMETLERİ İSTASYONU</td>\n      <td>SAĞLIK TEKNİKERİ (İLK VE ACİL\\rYARDIM)</td>\n      <td>ADANA</td>\n      <td>SB-TAŞRA</td>\n      <td>3</td>\n      <td>3005</td>\n      <td>NaN</td>\n    </tr>\n    <tr>\n      <th>2</th>\n      <td>225703101</td>\n      <td>25703</td>\n      <td>ADANA 42 NOLU ACİL SAĞLIK HİZMETLERİ İSTASYONU</td>\n      <td>SAĞLIK TEKNİKERİ (İLK VE ACİL\\rYARDIM)</td>\n      <td>ADANA</td>\n      <td>SB-TAŞRA</td>\n      <td>3</td>\n      <td>3005</td>\n      <td>NaN</td>\n    </tr>\n    <tr>\n      <th>3</th>\n      <td>225705101</td>\n      <td>25705</td>\n      <td>ADANA 43 NOLU ACİL SAĞLIK HİZMETLERİ İSTASYONU</td>\n      <td>SAĞLIK TEKNİKERİ (İLK VE ACİL\\rYARDIM)</td>\n      <td>ADANA</td>\n      <td>SB-TAŞRA</td>\n      <td>3</td>\n      <td>3005</td>\n      <td>NaN</td>\n    </tr>\n    <tr>\n      <th>4</th>\n      <td>225709101</td>\n      <td>25709</td>\n      <td>ADANA 44 NOLU ACİL SAĞLIK HİZMETLERİ İSTASYONU</td>\n      <td>SAĞLIK TEKNİKERİ (İLK VE ACİL\\rYARDIM)</td>\n      <td>ADANA</td>\n      <td>SB-TAŞRA</td>\n      <td>4</td>\n      <td>3005</td>\n      <td>NaN</td>\n    </tr>\n    <tr>\n      <th>5</th>\n      <td>225710101</td>\n      <td>25710</td>\n      <td>ADANA 45 NOLU ACİL SAĞLIK HİZMETLERİ İSTASYONU</td>\n      <td>SAĞLIK TEKNİKERİ (İLK VE ACİL\\rYARDIM)</td>\n      <td>ADANA</td>\n      <td>SB-TAŞRA</td>\n      <td>4</td>\n      <td>3005</td>\n      <td>NaN</td>\n    </tr>\n  </tbody>\n</table>\n</div>"
     },
     "metadata": {},
     "execution_count": 20
    }
   ],
   "source": [
    "bolum = df[df['Unnamed: 3'] == \"SAĞLIK TEKNİKERİ (İLK VE ACİL\\rYARDIM)\"]\n",
    "bolum.head()"
   ]
  },
  {
   "cell_type": "code",
   "execution_count": 21,
   "metadata": {},
   "outputs": [
    {
     "output_type": "execute_result",
     "data": {
      "text/plain": [
       "  Unnamed: 0                                      Unnamed: 2  \\\n",
       "1  225701101  ADANA 41 NOLU ACİL SAĞLIK HİZMETLERİ İSTASYONU   \n",
       "2  225703101  ADANA 42 NOLU ACİL SAĞLIK HİZMETLERİ İSTASYONU   \n",
       "3  225705101  ADANA 43 NOLU ACİL SAĞLIK HİZMETLERİ İSTASYONU   \n",
       "4  225709101  ADANA 44 NOLU ACİL SAĞLIK HİZMETLERİ İSTASYONU   \n",
       "5  225710101  ADANA 45 NOLU ACİL SAĞLIK HİZMETLERİ İSTASYONU   \n",
       "\n",
       "                               Unnamed: 3 Unnamed: 4 ARANAN NİTELİKLER*  \n",
       "1  SAĞLIK TEKNİKERİ (İLK VE ACİL\\rYARDIM)      ADANA                  3  \n",
       "2  SAĞLIK TEKNİKERİ (İLK VE ACİL\\rYARDIM)      ADANA                  3  \n",
       "3  SAĞLIK TEKNİKERİ (İLK VE ACİL\\rYARDIM)      ADANA                  3  \n",
       "4  SAĞLIK TEKNİKERİ (İLK VE ACİL\\rYARDIM)      ADANA                  4  \n",
       "5  SAĞLIK TEKNİKERİ (İLK VE ACİL\\rYARDIM)      ADANA                  4  "
      ],
      "text/html": "<div>\n<style scoped>\n    .dataframe tbody tr th:only-of-type {\n        vertical-align: middle;\n    }\n\n    .dataframe tbody tr th {\n        vertical-align: top;\n    }\n\n    .dataframe thead th {\n        text-align: right;\n    }\n</style>\n<table border=\"1\" class=\"dataframe\">\n  <thead>\n    <tr style=\"text-align: right;\">\n      <th></th>\n      <th>Unnamed: 0</th>\n      <th>Unnamed: 2</th>\n      <th>Unnamed: 3</th>\n      <th>Unnamed: 4</th>\n      <th>ARANAN NİTELİKLER*</th>\n    </tr>\n  </thead>\n  <tbody>\n    <tr>\n      <th>1</th>\n      <td>225701101</td>\n      <td>ADANA 41 NOLU ACİL SAĞLIK HİZMETLERİ İSTASYONU</td>\n      <td>SAĞLIK TEKNİKERİ (İLK VE ACİL\\rYARDIM)</td>\n      <td>ADANA</td>\n      <td>3</td>\n    </tr>\n    <tr>\n      <th>2</th>\n      <td>225703101</td>\n      <td>ADANA 42 NOLU ACİL SAĞLIK HİZMETLERİ İSTASYONU</td>\n      <td>SAĞLIK TEKNİKERİ (İLK VE ACİL\\rYARDIM)</td>\n      <td>ADANA</td>\n      <td>3</td>\n    </tr>\n    <tr>\n      <th>3</th>\n      <td>225705101</td>\n      <td>ADANA 43 NOLU ACİL SAĞLIK HİZMETLERİ İSTASYONU</td>\n      <td>SAĞLIK TEKNİKERİ (İLK VE ACİL\\rYARDIM)</td>\n      <td>ADANA</td>\n      <td>3</td>\n    </tr>\n    <tr>\n      <th>4</th>\n      <td>225709101</td>\n      <td>ADANA 44 NOLU ACİL SAĞLIK HİZMETLERİ İSTASYONU</td>\n      <td>SAĞLIK TEKNİKERİ (İLK VE ACİL\\rYARDIM)</td>\n      <td>ADANA</td>\n      <td>4</td>\n    </tr>\n    <tr>\n      <th>5</th>\n      <td>225710101</td>\n      <td>ADANA 45 NOLU ACİL SAĞLIK HİZMETLERİ İSTASYONU</td>\n      <td>SAĞLIK TEKNİKERİ (İLK VE ACİL\\rYARDIM)</td>\n      <td>ADANA</td>\n      <td>4</td>\n    </tr>\n  </tbody>\n</table>\n</div>"
     },
     "metadata": {},
     "execution_count": 21
    }
   ],
   "source": [
    "bolum.pop(\"Unnamed: 1\")\n",
    "bolum.pop(\"Unnamed: 5\")\n",
    "bolum.pop(\"Unnamed: 7\")\n",
    "bolum.pop(\"Unnamed: 8\")\n",
    "bolum.head()"
   ]
  },
  {
   "cell_type": "code",
   "execution_count": 22,
   "metadata": {},
   "outputs": [
    {
     "output_type": "execute_result",
     "data": {
      "text/plain": [
       "         Kod                                             Yer  \\\n",
       "1  225701101  ADANA 41 NOLU ACİL SAĞLIK HİZMETLERİ İSTASYONU   \n",
       "2  225703101  ADANA 42 NOLU ACİL SAĞLIK HİZMETLERİ İSTASYONU   \n",
       "3  225705101  ADANA 43 NOLU ACİL SAĞLIK HİZMETLERİ İSTASYONU   \n",
       "4  225709101  ADANA 44 NOLU ACİL SAĞLIK HİZMETLERİ İSTASYONU   \n",
       "5  225710101  ADANA 45 NOLU ACİL SAĞLIK HİZMETLERİ İSTASYONU   \n",
       "\n",
       "                                     Alan  Şehir Sayı  \n",
       "1  SAĞLIK TEKNİKERİ (İLK VE ACİL\\rYARDIM)  ADANA    3  \n",
       "2  SAĞLIK TEKNİKERİ (İLK VE ACİL\\rYARDIM)  ADANA    3  \n",
       "3  SAĞLIK TEKNİKERİ (İLK VE ACİL\\rYARDIM)  ADANA    3  \n",
       "4  SAĞLIK TEKNİKERİ (İLK VE ACİL\\rYARDIM)  ADANA    4  \n",
       "5  SAĞLIK TEKNİKERİ (İLK VE ACİL\\rYARDIM)  ADANA    4  "
      ],
      "text/html": "<div>\n<style scoped>\n    .dataframe tbody tr th:only-of-type {\n        vertical-align: middle;\n    }\n\n    .dataframe tbody tr th {\n        vertical-align: top;\n    }\n\n    .dataframe thead th {\n        text-align: right;\n    }\n</style>\n<table border=\"1\" class=\"dataframe\">\n  <thead>\n    <tr style=\"text-align: right;\">\n      <th></th>\n      <th>Kod</th>\n      <th>Yer</th>\n      <th>Alan</th>\n      <th>Şehir</th>\n      <th>Sayı</th>\n    </tr>\n  </thead>\n  <tbody>\n    <tr>\n      <th>1</th>\n      <td>225701101</td>\n      <td>ADANA 41 NOLU ACİL SAĞLIK HİZMETLERİ İSTASYONU</td>\n      <td>SAĞLIK TEKNİKERİ (İLK VE ACİL\\rYARDIM)</td>\n      <td>ADANA</td>\n      <td>3</td>\n    </tr>\n    <tr>\n      <th>2</th>\n      <td>225703101</td>\n      <td>ADANA 42 NOLU ACİL SAĞLIK HİZMETLERİ İSTASYONU</td>\n      <td>SAĞLIK TEKNİKERİ (İLK VE ACİL\\rYARDIM)</td>\n      <td>ADANA</td>\n      <td>3</td>\n    </tr>\n    <tr>\n      <th>3</th>\n      <td>225705101</td>\n      <td>ADANA 43 NOLU ACİL SAĞLIK HİZMETLERİ İSTASYONU</td>\n      <td>SAĞLIK TEKNİKERİ (İLK VE ACİL\\rYARDIM)</td>\n      <td>ADANA</td>\n      <td>3</td>\n    </tr>\n    <tr>\n      <th>4</th>\n      <td>225709101</td>\n      <td>ADANA 44 NOLU ACİL SAĞLIK HİZMETLERİ İSTASYONU</td>\n      <td>SAĞLIK TEKNİKERİ (İLK VE ACİL\\rYARDIM)</td>\n      <td>ADANA</td>\n      <td>4</td>\n    </tr>\n    <tr>\n      <th>5</th>\n      <td>225710101</td>\n      <td>ADANA 45 NOLU ACİL SAĞLIK HİZMETLERİ İSTASYONU</td>\n      <td>SAĞLIK TEKNİKERİ (İLK VE ACİL\\rYARDIM)</td>\n      <td>ADANA</td>\n      <td>4</td>\n    </tr>\n  </tbody>\n</table>\n</div>"
     },
     "metadata": {},
     "execution_count": 22
    }
   ],
   "source": [
    "bolum = bolum.rename(columns={\"Unnamed: 0\" : \"Kod\", \"Unnamed: 2\": \"Yer\", \"Unnamed: 3\": \"Alan\", \"Unnamed: 4\": \"Şehir\",\"ARANAN NİTELİKLER*\": \"Sayı\"})\n",
    "bolum.head()"
   ]
  },
  {
   "cell_type": "code",
   "execution_count": 23,
   "metadata": {},
   "outputs": [
    {
     "output_type": "execute_result",
     "data": {
      "text/plain": [
       "            Kod                                                Yer  \\\n",
       "691   288794702  HATAY YAYLADAĞI 2 NOLU ACİL SAĞLIK HİZMETLERİ ...   \n",
       "1421  211075103  TEKİRDAĞ ÇORLU 2 NOLU ACİL SAĞLIK HİZMETLERİ İ...   \n",
       "732   272681802  İSTANBUL PENDİK 11 NOLU ACİL SAĞLIK HİZMETLERİ...   \n",
       "728   272249301  İSTANBUL ESENYURT 6 NOLU ACİL SAĞLIK HİZMETLER...   \n",
       "1422  272715102  TEKİRDAĞ ÇORLU 5 NOLU ACİL SAĞLIK HİZMETLERİ İ...   \n",
       "\n",
       "                                        Alan     Şehir Sayı  \n",
       "691   SAĞLIK TEKNİKERİ (İLK VE ACİL\\rYARDIM)     HATAY    1  \n",
       "1421  SAĞLIK TEKNİKERİ (İLK VE ACİL\\rYARDIM)  TEKİRDAĞ    1  \n",
       "732   SAĞLIK TEKNİKERİ (İLK VE ACİL\\rYARDIM)  İSTANBUL    1  \n",
       "728   SAĞLIK TEKNİKERİ (İLK VE ACİL\\rYARDIM)  İSTANBUL    1  \n",
       "1422  SAĞLIK TEKNİKERİ (İLK VE ACİL\\rYARDIM)  TEKİRDAĞ    1  "
      ],
      "text/html": "<div>\n<style scoped>\n    .dataframe tbody tr th:only-of-type {\n        vertical-align: middle;\n    }\n\n    .dataframe tbody tr th {\n        vertical-align: top;\n    }\n\n    .dataframe thead th {\n        text-align: right;\n    }\n</style>\n<table border=\"1\" class=\"dataframe\">\n  <thead>\n    <tr style=\"text-align: right;\">\n      <th></th>\n      <th>Kod</th>\n      <th>Yer</th>\n      <th>Alan</th>\n      <th>Şehir</th>\n      <th>Sayı</th>\n    </tr>\n  </thead>\n  <tbody>\n    <tr>\n      <th>691</th>\n      <td>288794702</td>\n      <td>HATAY YAYLADAĞI 2 NOLU ACİL SAĞLIK HİZMETLERİ ...</td>\n      <td>SAĞLIK TEKNİKERİ (İLK VE ACİL\\rYARDIM)</td>\n      <td>HATAY</td>\n      <td>1</td>\n    </tr>\n    <tr>\n      <th>1421</th>\n      <td>211075103</td>\n      <td>TEKİRDAĞ ÇORLU 2 NOLU ACİL SAĞLIK HİZMETLERİ İ...</td>\n      <td>SAĞLIK TEKNİKERİ (İLK VE ACİL\\rYARDIM)</td>\n      <td>TEKİRDAĞ</td>\n      <td>1</td>\n    </tr>\n    <tr>\n      <th>732</th>\n      <td>272681802</td>\n      <td>İSTANBUL PENDİK 11 NOLU ACİL SAĞLIK HİZMETLERİ...</td>\n      <td>SAĞLIK TEKNİKERİ (İLK VE ACİL\\rYARDIM)</td>\n      <td>İSTANBUL</td>\n      <td>1</td>\n    </tr>\n    <tr>\n      <th>728</th>\n      <td>272249301</td>\n      <td>İSTANBUL ESENYURT 6 NOLU ACİL SAĞLIK HİZMETLER...</td>\n      <td>SAĞLIK TEKNİKERİ (İLK VE ACİL\\rYARDIM)</td>\n      <td>İSTANBUL</td>\n      <td>1</td>\n    </tr>\n    <tr>\n      <th>1422</th>\n      <td>272715102</td>\n      <td>TEKİRDAĞ ÇORLU 5 NOLU ACİL SAĞLIK HİZMETLERİ İ...</td>\n      <td>SAĞLIK TEKNİKERİ (İLK VE ACİL\\rYARDIM)</td>\n      <td>TEKİRDAĞ</td>\n      <td>1</td>\n    </tr>\n  </tbody>\n</table>\n</div>"
     },
     "metadata": {},
     "execution_count": 23
    }
   ],
   "source": [
    "bolum = bolum.sort_values(by=\"Sayı\")\n",
    "bolum.head()"
   ]
  },
  {
   "cell_type": "code",
   "execution_count": 24,
   "metadata": {},
   "outputs": [],
   "source": [
    "bolum.to_excel(\"dosya_ismi.xlsx\", \"tercih tablosu\")"
   ]
  },
  {
   "cell_type": "code",
   "execution_count": null,
   "metadata": {},
   "outputs": [],
   "source": []
  }
 ]
}